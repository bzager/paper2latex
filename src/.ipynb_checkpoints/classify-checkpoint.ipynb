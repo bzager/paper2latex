{
 "cells": [
  {
   "cell_type": "code",
   "execution_count": 11,
   "metadata": {},
   "outputs": [],
   "source": [
    "\n",
    "import sys\n",
    "import os\n",
    "import importlib\n",
    "import numpy as np\n",
    "\n",
    "import extract\n",
    "import classifier\n",
    "import networks\n",
    "\n",
    "importlib.reload(extract)\n",
    "importlib.reload(classifier)\n",
    "importlib.reload(networks)\n",
    "\n",
    "from extract import initPhogs,initImgs\n",
    "from classifier import runSVM,getAccuracy\n",
    "\n",
    "# Define symbol names\n",
    "\n",
    "allNames = extract.getAllNames()\n",
    "letters = \"abcdefghijklmnopqrstuvwxyz\"\n",
    "lowercase = list(letters)\n",
    "uppercase = list(letters.upper())\n",
    "integers = [str(i) for i in range(10)]\n"
   ]
  },
  {
   "cell_type": "code",
   "execution_count": 8,
   "metadata": {
    "collapsed": true
   },
   "outputs": [],
   "source": [
    "# Set input\n",
    "\n",
    "numTrain = 1000\n",
    "numTest = 100\n",
    "num = numTrain+numTest\n",
    "\n",
    "names = integers+lowercase\n"
   ]
  },
  {
   "cell_type": "code",
   "execution_count": 9,
   "metadata": {
    "scrolled": true
   },
   "outputs": [
    {
     "name": "stdout",
     "output_type": "stream",
     "text": [
      "0 6914\n",
      "1 26520\n",
      "2 26141\n",
      "3 10909\n",
      "4 7396\n",
      "5 3545\n",
      "6 3118\n",
      "7 2909\n",
      "8 3068\n",
      "9 3737\n",
      "a 12368\n",
      "b 8651\n",
      "c 5802\n",
      "d 4852\n",
      "e 3003\n",
      "f 3712\n",
      "g 1692\n",
      "h 1464\n",
      "i 5140\n",
      "j 1536\n",
      "k 3074\n",
      "l 1017\n",
      "m 2476\n",
      "n 10862\n",
      "o 449\n",
      "p 2680\n",
      "q 1230\n",
      "r 2671\n",
      "s 1413\n",
      "t 3274\n",
      "u 1269\n",
      "v 1558\n",
      "w 556\n",
      "x 26594\n",
      "y 9340\n",
      "z 5870\n",
      " (3599, 1032)\n",
      "(3599,)\n",
      "(360, 1032)\n",
      "(360,)\n"
     ]
    }
   ],
   "source": [
    "# Get input\n",
    "\n",
    "%prun trainPhogs,trainLabels,testPhogs,testLabels = initPhogs(names,numTrain,numTest,random=False)\n",
    "#%prun trainImgs,trainLabels,testImgs,testLabels = initImgs(names,numTrain,numTest)\n",
    "\n",
    "print(trainPhogs.shape)\n",
    "print(trainLabels.shape)\n",
    "print(testPhogs.shape)\n",
    "print(testLabels.shape)"
   ]
  },
  {
   "cell_type": "code",
   "execution_count": 10,
   "metadata": {},
   "outputs": [
    {
     "name": "stdout",
     "output_type": "stream",
     "text": [
      " 0.45\n"
     ]
    }
   ],
   "source": [
    "# SVM classifier\n",
    "\n",
    "C = 0.5\n",
    "gamma = \"auto\"\n",
    "\n",
    "%prun results = runSVM(trainPhogs,trainLabels,testPhogs,C=C,gamma=gamma,style=\"ovr\")\n",
    "accuracy = getAccuracy(results,testLabels)\n",
    "print(np.around(accuracy,2))\n",
    "\n",
    "%prun results = runSVM(trainPhogs,trainLabels,testPhogs,C=C,gamma=gamma)\n",
    "accuracy = getAccuracy(results,testLabels)\n",
    "print(np.around(accuracy,2))\n"
   ]
  },
  {
   "cell_type": "code",
   "execution_count": 49,
   "metadata": {},
   "outputs": [
    {
     "name": "stdout",
     "output_type": "stream",
     "text": [
      "Epoch 1/1\n",
      "10000/10000 [==============================] - 2s - loss: 1.2517 - acc: 0.6271     \n",
      " 992/1000 [============================>.] - ETA: 0s\n",
      "\n",
      "Loss: 0.9\n",
      "Accuracy: 0.71\n",
      "Epoch 1/1\n",
      "10000/10000 [==============================] - 2s - loss: 2.7869 - acc: 0.5472     \n",
      " 640/1000 [==================>...........] - ETA: 0s \n",
      "\n",
      "Loss: 0.89\n",
      "Accuracy: 0.71\n",
      "Epoch 1/1\n",
      "10000/10000 [==============================] - 4s - loss: 4.2887 - acc: 0.4777     \n",
      " 608/1000 [=================>............] - ETA: 0s \n",
      "\n",
      "Loss: 0.97\n",
      "Accuracy: 0.7\n",
      "Epoch 1/1\n",
      "10000/10000 [==============================] - 3s - loss: 5.7551 - acc: 0.3951     \n",
      " 608/1000 [=================>............] - ETA: 0s \n",
      "\n",
      "Loss: 1.04\n",
      "Accuracy: 0.68\n",
      "Epoch 1/1\n",
      "10000/10000 [==============================] - 3s - loss: 7.3095 - acc: 0.3293     \n",
      "1000/1000 [==============================] - 0s     \n",
      "\n",
      "\n",
      "Loss: 1.16\n",
      "Accuracy: 0.67\n",
      "Epoch 1/1\n",
      "10000/10000 [==============================] - 3s - loss: nan - acc: 0.1625     \n",
      " 608/1000 [=================>............] - ETA: 0s \n",
      "\n",
      "Loss: nan\n",
      "Accuracy: 0.1\n"
     ]
    }
   ],
   "source": [
    "# Neural network classifier\n",
    "\n",
    "def testNetwork(trainPhogs,trainLabels,testPhogs,testLabels,input_dim,num_classes,dropout_rate,batch_size,epochs):\n",
    "    model = networks.simple_model(input_dim,dropout_rate,num_classes)\n",
    "    model = networks.train_model(model,trainPhogs,trainLabels,epochs,batch_size)\n",
    "    score = networks.test_model(model,testPhogs,testLabels,batch_size)\n",
    "\n",
    "    print(\"\\n\")\n",
    "    print(\"Loss: \"+str(np.around(score[0],2)))\n",
    "    print(\"Accuracy: \"+str(np.around(score[1],2)))\n",
    "\n",
    "\n",
    "input_dim = len(trainPhogs[0])\n",
    "num_classes = len(names)\n",
    "#dropout_rate = 0\n",
    "batch_size = 32\n",
    "epochs = 1\n",
    "\n",
    "rates = [0,0.1,0.2,0.3]\n",
    "\n",
    "for dropout_rate in rates:\n",
    "    testNetwork(trainPhogs,trainLabels,testPhogs,testLabels,input_dim,num_classes,dropout_rate,batch_size,epochs)\n"
   ]
  },
  {
   "cell_type": "code",
   "execution_count": null,
   "metadata": {
    "collapsed": true
   },
   "outputs": [],
   "source": []
  }
 ],
 "metadata": {
  "kernelspec": {
   "display_name": "Python 3",
   "language": "python",
   "name": "python3"
  },
  "language_info": {
   "codemirror_mode": {
    "name": "ipython",
    "version": 3
   },
   "file_extension": ".py",
   "mimetype": "text/x-python",
   "name": "python",
   "nbconvert_exporter": "python",
   "pygments_lexer": "ipython3",
   "version": "3.6.2"
  }
 },
 "nbformat": 4,
 "nbformat_minor": 2
}
